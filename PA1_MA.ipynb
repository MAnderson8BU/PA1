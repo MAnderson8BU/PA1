{
 "cells": [
  {
   "cell_type": "markdown",
   "id": "99e0d823",
   "metadata": {},
   "source": [
    "### Mason Anderson\n",
    "### Assignment 1\n",
    "### Version 1\n",
    "### Fall 2023"
   ]
  },
  {
   "cell_type": "markdown",
   "id": "7547fb65",
   "metadata": {},
   "source": [
    "# Mason Anderson\n",
    "### My name is Mason Anderson, I am a senior here at Bellarmine majoring in Economics. I am interested in programming because many of my friends know how to program and it seems really interesting.\n"
   ]
  },
  {
   "cell_type": "markdown",
   "id": "e3ee8982",
   "metadata": {},
   "source": [
    "* Programming Assignments\n",
    "* Quizzes\n",
    "* Attendence/Inclass completed notebooks\n",
    "* Mid term Exam\n",
    "* Projects"
   ]
  },
  {
   "cell_type": "markdown",
   "id": "2389a931",
   "metadata": {},
   "source": [
    "1. Variables and Simple Data Types\n",
    "2. Lists, Tuples cont.\n",
    "3. If statements\n",
    "4. Dictionaries\n",
    "5. Loops\n",
    "6. Loops cont.\n",
    "7. Functions\n",
    "8. Numpy"
   ]
  },
  {
   "cell_type": "markdown",
   "id": "d2541e40",
   "metadata": {},
   "source": [
    "**Python**\n",
    "\n",
    "*Anaconda*\n"
   ]
  },
  {
   "cell_type": "markdown",
   "id": "cb49bfff",
   "metadata": {},
   "source": [
    "`Hello World I am excited to alive today`"
   ]
  },
  {
   "cell_type": "markdown",
   "id": "a25c9862",
   "metadata": {},
   "source": [
    "<a href=\"https://github.com/MAnderson8BU\">My Github account link</a>"
   ]
  },
  {
   "cell_type": "markdown",
   "id": "40af1c80",
   "metadata": {},
   "source": [
    "![Bellarmine Unversity Logo](https://www.bellarmine.edu/sf-images/default-source/about/bellarmine-university-white-maroon-bg.jpg?sfvrsn=b9867180_0)"
   ]
  },
  {
   "cell_type": "markdown",
   "id": "9e699124",
   "metadata": {},
   "source": [
    "> In this markdown practice, I have learned many different types of syntax for python markdown. I have learned how to create headers, manipulate text by highlighting, bolding, or italicizing it. I have also learned how to hyperlink using markdown as well as rendering a picture. Lastly, I have learned how to create lists, ordered or bullet lists."
   ]
  }
 ],
 "metadata": {
  "kernelspec": {
   "display_name": "Python 3 (ipykernel)",
   "language": "python",
   "name": "python3"
  },
  "language_info": {
   "codemirror_mode": {
    "name": "ipython",
    "version": 3
   },
   "file_extension": ".py",
   "mimetype": "text/x-python",
   "name": "python",
   "nbconvert_exporter": "python",
   "pygments_lexer": "ipython3",
   "version": "3.11.4"
  }
 },
 "nbformat": 4,
 "nbformat_minor": 5
}
